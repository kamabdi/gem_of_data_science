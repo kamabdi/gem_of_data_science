{
  "nbformat": 4,
  "nbformat_minor": 0,
  "metadata": {
    "environment": {
      "name": "tf2-gpu.2-1.m46",
      "type": "gcloud",
      "uri": "gcr.io/deeplearning-platform-release/tf2-gpu.2-1:m46"
    },
    "kernelspec": {
      "display_name": "transformers tf and pt (py37)",
      "language": "python",
      "name": "py37"
    },
    "language_info": {
      "codemirror_mode": {
        "name": "ipython",
        "version": 3
      },
      "file_extension": ".py",
      "mimetype": "text/x-python",
      "name": "python",
      "nbconvert_exporter": "python",
      "pygments_lexer": "ipython3",
      "version": "3.7.8"
    },
    "colab": {
      "name": "Sample Text Analysis_TODO",
      "provenance": [],
      "collapsed_sections": [],
      "include_colab_link": true
    },
    "widgets": {
      "application/vnd.jupyter.widget-state+json": {
        "6b91d0d912f148dba09d228b556d454c": {
          "model_module": "@jupyter-widgets/controls",
          "model_name": "HBoxModel",
          "model_module_version": "1.5.0",
          "state": {
            "_view_name": "HBoxView",
            "_dom_classes": [],
            "_model_name": "HBoxModel",
            "_view_module": "@jupyter-widgets/controls",
            "_model_module_version": "1.5.0",
            "_view_count": null,
            "_view_module_version": "1.5.0",
            "box_style": "",
            "layout": "IPY_MODEL_d796bfc104ee453b9e42237bf7bd28de",
            "_model_module": "@jupyter-widgets/controls",
            "children": [
              "IPY_MODEL_de07cfad4b2a4094906d9906659a693e",
              "IPY_MODEL_e99054b9e02d4fb39df6fbe574178ebf",
              "IPY_MODEL_88eb7770b44f4c1d9715d911c80ab17c"
            ]
          }
        },
        "d796bfc104ee453b9e42237bf7bd28de": {
          "model_module": "@jupyter-widgets/base",
          "model_name": "LayoutModel",
          "model_module_version": "1.2.0",
          "state": {
            "_view_name": "LayoutView",
            "grid_template_rows": null,
            "right": null,
            "justify_content": null,
            "_view_module": "@jupyter-widgets/base",
            "overflow": null,
            "_model_module_version": "1.2.0",
            "_view_count": null,
            "flex_flow": null,
            "width": null,
            "min_width": null,
            "border": null,
            "align_items": null,
            "bottom": null,
            "_model_module": "@jupyter-widgets/base",
            "top": null,
            "grid_column": null,
            "overflow_y": null,
            "overflow_x": null,
            "grid_auto_flow": null,
            "grid_area": null,
            "grid_template_columns": null,
            "flex": null,
            "_model_name": "LayoutModel",
            "justify_items": null,
            "grid_row": null,
            "max_height": null,
            "align_content": null,
            "visibility": null,
            "align_self": null,
            "height": null,
            "min_height": null,
            "padding": null,
            "grid_auto_rows": null,
            "grid_gap": null,
            "max_width": null,
            "order": null,
            "_view_module_version": "1.2.0",
            "grid_template_areas": null,
            "object_position": null,
            "object_fit": null,
            "grid_auto_columns": null,
            "margin": null,
            "display": null,
            "left": null
          }
        },
        "de07cfad4b2a4094906d9906659a693e": {
          "model_module": "@jupyter-widgets/controls",
          "model_name": "HTMLModel",
          "model_module_version": "1.5.0",
          "state": {
            "_view_name": "HTMLView",
            "style": "IPY_MODEL_d6c3440015a240c8b0ccef3738d7fdb3",
            "_dom_classes": [],
            "description": "",
            "_model_name": "HTMLModel",
            "placeholder": "​",
            "_view_module": "@jupyter-widgets/controls",
            "_model_module_version": "1.5.0",
            "value": "Downloading: 100%",
            "_view_count": null,
            "_view_module_version": "1.5.0",
            "description_tooltip": null,
            "_model_module": "@jupyter-widgets/controls",
            "layout": "IPY_MODEL_820f377719df43b59987c4e78b913a4a"
          }
        },
        "e99054b9e02d4fb39df6fbe574178ebf": {
          "model_module": "@jupyter-widgets/controls",
          "model_name": "FloatProgressModel",
          "model_module_version": "1.5.0",
          "state": {
            "_view_name": "ProgressView",
            "style": "IPY_MODEL_b1838b37e70044949d0edad317649162",
            "_dom_classes": [],
            "description": "",
            "_model_name": "FloatProgressModel",
            "bar_style": "success",
            "max": 498731785,
            "_view_module": "@jupyter-widgets/controls",
            "_model_module_version": "1.5.0",
            "value": 498731785,
            "_view_count": null,
            "_view_module_version": "1.5.0",
            "orientation": "horizontal",
            "min": 0,
            "description_tooltip": null,
            "_model_module": "@jupyter-widgets/controls",
            "layout": "IPY_MODEL_4f3a56805fe048b790ab009441370250"
          }
        },
        "88eb7770b44f4c1d9715d911c80ab17c": {
          "model_module": "@jupyter-widgets/controls",
          "model_name": "HTMLModel",
          "model_module_version": "1.5.0",
          "state": {
            "_view_name": "HTMLView",
            "style": "IPY_MODEL_f0bf99bc2fa34859b1e2a673a40545ca",
            "_dom_classes": [],
            "description": "",
            "_model_name": "HTMLModel",
            "placeholder": "​",
            "_view_module": "@jupyter-widgets/controls",
            "_model_module_version": "1.5.0",
            "value": " 476M/476M [00:12&lt;00:00, 35.5MB/s]",
            "_view_count": null,
            "_view_module_version": "1.5.0",
            "description_tooltip": null,
            "_model_module": "@jupyter-widgets/controls",
            "layout": "IPY_MODEL_45a9892120c74eb3a94e63a5efba3dd3"
          }
        },
        "d6c3440015a240c8b0ccef3738d7fdb3": {
          "model_module": "@jupyter-widgets/controls",
          "model_name": "DescriptionStyleModel",
          "model_module_version": "1.5.0",
          "state": {
            "_view_name": "StyleView",
            "_model_name": "DescriptionStyleModel",
            "description_width": "",
            "_view_module": "@jupyter-widgets/base",
            "_model_module_version": "1.5.0",
            "_view_count": null,
            "_view_module_version": "1.2.0",
            "_model_module": "@jupyter-widgets/controls"
          }
        },
        "820f377719df43b59987c4e78b913a4a": {
          "model_module": "@jupyter-widgets/base",
          "model_name": "LayoutModel",
          "model_module_version": "1.2.0",
          "state": {
            "_view_name": "LayoutView",
            "grid_template_rows": null,
            "right": null,
            "justify_content": null,
            "_view_module": "@jupyter-widgets/base",
            "overflow": null,
            "_model_module_version": "1.2.0",
            "_view_count": null,
            "flex_flow": null,
            "width": null,
            "min_width": null,
            "border": null,
            "align_items": null,
            "bottom": null,
            "_model_module": "@jupyter-widgets/base",
            "top": null,
            "grid_column": null,
            "overflow_y": null,
            "overflow_x": null,
            "grid_auto_flow": null,
            "grid_area": null,
            "grid_template_columns": null,
            "flex": null,
            "_model_name": "LayoutModel",
            "justify_items": null,
            "grid_row": null,
            "max_height": null,
            "align_content": null,
            "visibility": null,
            "align_self": null,
            "height": null,
            "min_height": null,
            "padding": null,
            "grid_auto_rows": null,
            "grid_gap": null,
            "max_width": null,
            "order": null,
            "_view_module_version": "1.2.0",
            "grid_template_areas": null,
            "object_position": null,
            "object_fit": null,
            "grid_auto_columns": null,
            "margin": null,
            "display": null,
            "left": null
          }
        },
        "b1838b37e70044949d0edad317649162": {
          "model_module": "@jupyter-widgets/controls",
          "model_name": "ProgressStyleModel",
          "model_module_version": "1.5.0",
          "state": {
            "_view_name": "StyleView",
            "_model_name": "ProgressStyleModel",
            "description_width": "",
            "_view_module": "@jupyter-widgets/base",
            "_model_module_version": "1.5.0",
            "_view_count": null,
            "_view_module_version": "1.2.0",
            "bar_color": null,
            "_model_module": "@jupyter-widgets/controls"
          }
        },
        "4f3a56805fe048b790ab009441370250": {
          "model_module": "@jupyter-widgets/base",
          "model_name": "LayoutModel",
          "model_module_version": "1.2.0",
          "state": {
            "_view_name": "LayoutView",
            "grid_template_rows": null,
            "right": null,
            "justify_content": null,
            "_view_module": "@jupyter-widgets/base",
            "overflow": null,
            "_model_module_version": "1.2.0",
            "_view_count": null,
            "flex_flow": null,
            "width": null,
            "min_width": null,
            "border": null,
            "align_items": null,
            "bottom": null,
            "_model_module": "@jupyter-widgets/base",
            "top": null,
            "grid_column": null,
            "overflow_y": null,
            "overflow_x": null,
            "grid_auto_flow": null,
            "grid_area": null,
            "grid_template_columns": null,
            "flex": null,
            "_model_name": "LayoutModel",
            "justify_items": null,
            "grid_row": null,
            "max_height": null,
            "align_content": null,
            "visibility": null,
            "align_self": null,
            "height": null,
            "min_height": null,
            "padding": null,
            "grid_auto_rows": null,
            "grid_gap": null,
            "max_width": null,
            "order": null,
            "_view_module_version": "1.2.0",
            "grid_template_areas": null,
            "object_position": null,
            "object_fit": null,
            "grid_auto_columns": null,
            "margin": null,
            "display": null,
            "left": null
          }
        },
        "f0bf99bc2fa34859b1e2a673a40545ca": {
          "model_module": "@jupyter-widgets/controls",
          "model_name": "DescriptionStyleModel",
          "model_module_version": "1.5.0",
          "state": {
            "_view_name": "StyleView",
            "_model_name": "DescriptionStyleModel",
            "description_width": "",
            "_view_module": "@jupyter-widgets/base",
            "_model_module_version": "1.5.0",
            "_view_count": null,
            "_view_module_version": "1.2.0",
            "_model_module": "@jupyter-widgets/controls"
          }
        },
        "45a9892120c74eb3a94e63a5efba3dd3": {
          "model_module": "@jupyter-widgets/base",
          "model_name": "LayoutModel",
          "model_module_version": "1.2.0",
          "state": {
            "_view_name": "LayoutView",
            "grid_template_rows": null,
            "right": null,
            "justify_content": null,
            "_view_module": "@jupyter-widgets/base",
            "overflow": null,
            "_model_module_version": "1.2.0",
            "_view_count": null,
            "flex_flow": null,
            "width": null,
            "min_width": null,
            "border": null,
            "align_items": null,
            "bottom": null,
            "_model_module": "@jupyter-widgets/base",
            "top": null,
            "grid_column": null,
            "overflow_y": null,
            "overflow_x": null,
            "grid_auto_flow": null,
            "grid_area": null,
            "grid_template_columns": null,
            "flex": null,
            "_model_name": "LayoutModel",
            "justify_items": null,
            "grid_row": null,
            "max_height": null,
            "align_content": null,
            "visibility": null,
            "align_self": null,
            "height": null,
            "min_height": null,
            "padding": null,
            "grid_auto_rows": null,
            "grid_gap": null,
            "max_width": null,
            "order": null,
            "_view_module_version": "1.2.0",
            "grid_template_areas": null,
            "object_position": null,
            "object_fit": null,
            "grid_auto_columns": null,
            "margin": null,
            "display": null,
            "left": null
          }
        }
      }
    }
  },
  "cells": [
    {
      "cell_type": "markdown",
      "metadata": {
        "id": "view-in-github",
        "colab_type": "text"
      },
      "source": [
        "<a href=\"https://colab.research.google.com/github/kamabdi/gem_of_data_science/blob/main/Sample_Text_Analysis_TODO.ipynb\" target=\"_parent\"><img src=\"https://colab.research.google.com/assets/colab-badge.svg\" alt=\"Open In Colab\"/></a>"
      ]
    },
    {
      "cell_type": "markdown",
      "metadata": {
        "id": "Dc2ONrUUi87F"
      },
      "source": [
        "# Usage of TweetEval and Twitter-specific RoBERTa models\n",
        "\n",
        "In this notebook we show how to perform tasks such as masked language modeling, computing tweet similarity or tweet classificationo using our Twitter-specific RoBERTa models.\n",
        "\n",
        "- Paper: [_TweetEval_ benchmark (Findings of EMNLP 2020)](https://arxiv.org/pdf/2010.12421.pdf)\n"
      ]
    },
    {
      "cell_type": "markdown",
      "metadata": {
        "id": "J-FFwHN0jj3O"
      },
      "source": [
        "## Preliminaries\n",
        "\n",
        "We define a function to normalize a tweet to the format we used for TweetEval. Note that preprocessing is minimal (replacing user names by `@user` and links by `http`)."
      ]
    },
    {
      "cell_type": "code",
      "metadata": {
        "id": "gKE0LowmYpTY"
      },
      "source": [
        "def preprocess(text):\n",
        "    new_text = []\n",
        "    for t in text.split(\" \"):\n",
        "        t = '@user' if t.startswith('@') and len(t) > 1 else t\n",
        "        t = 'http' if t.startswith('http') else t\n",
        "        new_text.append(t)\n",
        "    return \" \".join(new_text)"
      ],
      "execution_count": null,
      "outputs": []
    },
    {
      "cell_type": "markdown",
      "metadata": {
        "id": "JJ480-5vkRNR"
      },
      "source": [
        "We only need to install one dependnecy: the `transformers` library."
      ]
    },
    {
      "cell_type": "code",
      "metadata": {
        "id": "42j4PR6vYrfg"
      },
      "source": [
        "!pip install transformers"
      ],
      "execution_count": null,
      "outputs": []
    },
    {
      "cell_type": "markdown",
      "metadata": {
        "id": "us58XJGyYpTS"
      },
      "source": [
        "## Computing Tweet Similarity\n",
        "\n",
        "To make sense of the words and sentences we need:\n",
        "0. Preprocess your text (lowcase, remove special characters, etc...)\n",
        "1. Load/Create the Dictionary of known words\n",
        "2. Load/Create/Learn Embeddings to represent known words"
      ]
    },
    {
      "cell_type": "code",
      "metadata": {
        "id": "AZq3Q5kKYpTg"
      },
      "source": [
        "from transformers import AutoTokenizer, AutoModel, TFAutoModel\n",
        "import numpy as np\n",
        "from scipy.spatial.distance import cosine, euclidean\n",
        "from collections import defaultdict\n",
        "\n",
        "MODEL = \"cardiffnlp/twitter-roberta-base\"\n",
        "\n",
        "# Load the Dictionary of known words \n",
        "tokenizer = AutoTokenizer.from_pretrained(MODEL)\n",
        "\n",
        "# Load embeddings\n",
        "model = AutoModel.from_pretrained(MODEL)\n",
        "\n",
        "def get_embedding(text):\n",
        "  # 0. Preprocess text\n",
        "  text = preprocess(text)\n",
        "  # 1. Get what words are known/ in the dictionary\n",
        "  encoded_input = tokenizer(text, return_tensors='pt')\n",
        "  print(encoded_input)\n",
        "  # 2. Get embedding of each word\n",
        "  features = model(**encoded_input)\n",
        "  print(features[0].shape)\n",
        "  features = features[0].detach().cpu().numpy() \n",
        "\n",
        "  # 3. Find sentence representation\n",
        "  features_mean = np.mean(features[0], axis=0) \n",
        "  return features_mean\n",
        "\n",
        "MODEL = \"cardiffnlp/twitter-roberta-base\"\n",
        "\n",
        "query = \"The course was awesome 😂\"\n",
        "\n",
        "tweets = [\"I just ordered fried chicken 🐣\", \n",
        "          \"The movie was great\", \n",
        "          \"What time is the next game? 😂\", \n",
        "          \"Just finished reading 'Embeddings in NLP'\"]\n",
        "\n",
        "d = defaultdict(int)\n",
        "for tweet in tweets:\n",
        "  sim = 1-cosine(get_embedding(query),get_embedding(tweet))\n",
        "  d[tweet] = sim\n",
        "\n",
        "print('Most similar to: ',query)\n",
        "print('----------------------------------------')\n",
        "for idx,x in enumerate(sorted(d.items(), key=lambda x:x[1], reverse=True)):\n",
        "  print(idx+1,x[0])"
      ],
      "execution_count": null,
      "outputs": []
    },
    {
      "cell_type": "markdown",
      "metadata": {
        "id": "Ac8A2XgzYpTk"
      },
      "source": [
        "## Masked language modeling\n",
        "\n",
        "Use Twitter-RoBERTA-base to predict words in context using the `fill-mask` pipeline in `transformers`."
      ]
    },
    {
      "cell_type": "code",
      "metadata": {
        "id": "-pCzp7DIYpTl",
        "colab": {
          "base_uri": "https://localhost:8080/"
        },
        "outputId": "a7ac67e7-8e74-4e1d-ab31-f9df359e7f8a"
      },
      "source": [
        "from transformers import pipeline, AutoTokenizer\n",
        "import numpy as np\n",
        "\n",
        "MODEL = \"cardiffnlp/twitter-roberta-base\"\n",
        "fill_mask = pipeline(\"fill-mask\", model=MODEL, tokenizer=MODEL)\n",
        "tokenizer = AutoTokenizer.from_pretrained(MODEL)\n",
        "\n",
        "def print_candidates():\n",
        "    for i in range(5):\n",
        "        token = tokenizer.decode(candidates[i]['token'])\n",
        "        score = np.round(candidates[i]['score'], 4)\n",
        "        print(f\"{i+1}) {token} {score}\")\n",
        "\n",
        "texts = [\n",
        " \"I am so <mask> 😊\",\n",
        " \"I am so <mask> 😢\" \n",
        "]\n",
        "for text in texts:\n",
        "    # TODO \n",
        "    # 0. Preprocess text  \n",
        "    \n",
        "    print(f\"{'-'*30}\\n{t}\")\n",
        "    candidates = fill_mask(t)\n",
        "    print_candidates()"
      ],
      "execution_count": null,
      "outputs": [
        {
          "output_type": "stream",
          "name": "stdout",
          "text": [
            "------------------------------\n",
            "I am so <mask> 😊\n",
            "1)  happy 0.402\n",
            "2)  excited 0.1441\n",
            "3)  proud 0.143\n",
            "4)  grateful 0.0669\n",
            "5)  blessed 0.0334\n",
            "------------------------------\n",
            "I am so <mask> 😢\n",
            "1)  sad 0.2641\n",
            "2)  sorry 0.1605\n",
            "3)  tired 0.138\n",
            "4)  sick 0.0278\n",
            "5)  hungry 0.0232\n"
          ]
        }
      ]
    },
    {
      "cell_type": "markdown",
      "metadata": {
        "id": "Is2p3X9iYpTq"
      },
      "source": [
        "## Use TweetEval Classifiers\n",
        "\n",
        "We currently provide the following fine-tuned models for different tweet classification tasks:\n",
        "\n",
        "- emoji prediction (`emoji`)\n",
        "- emotion detection (`emotion`)\n",
        "- hate speech detection (`hate`)\n",
        "- irony detection (`irony`)\n",
        "- offensive language identification (`offensive`)\n",
        "- sentiment analysis (`sentiment`)\n",
        "- _(coming soon)_ stance detection (`stance`) with 5 targets (`abortion`, `atheism`, `climate`, `feminist`, `hillary`), for example: `stance-abortion`\n"
      ]
    },
    {
      "cell_type": "code",
      "metadata": {
        "id": "F0xUNJwSYpTq"
      },
      "source": [
        "from transformers import AutoModelForSequenceClassification\n",
        "from transformers import TFAutoModelForSequenceClassification\n",
        "from transformers import AutoTokenizer\n",
        "import numpy as np\n",
        "from scipy.special import softmax\n",
        "import csv\n",
        "import urllib.request\n",
        "\n",
        "# TODO \n",
        "# SELECT task from the list \n",
        "task= # TODO\n",
        "\n",
        "MODEL = f\"cardiffnlp/twitter-roberta-base-{task}\"\n",
        "\n",
        "# TODO\n",
        "# LOAD Dictionary "
      ],
      "execution_count": null,
      "outputs": []
    },
    {
      "cell_type": "code",
      "metadata": {
        "id": "g8_fEezTYpTu"
      },
      "source": [
        "# download label mapping\n",
        "mapping_link = f\"https://raw.githubusercontent.com/cardiffnlp/tweeteval/main/datasets/{task}/mapping.txt\"\n",
        "with urllib.request.urlopen(mapping_link) as f:\n",
        "    html = f.read().decode('utf-8').split(\"\\n\")\n",
        "    csvreader = csv.reader(html, delimiter='\\t')\n",
        "labels = [row[1] for row in csvreader if len(row) > 1]\n",
        "labels"
      ],
      "execution_count": null,
      "outputs": []
    },
    {
      "cell_type": "code",
      "metadata": {
        "id": "YQ_EGuYaYpTy",
        "colab": {
          "base_uri": "https://localhost:8080/",
          "height": 49,
          "referenced_widgets": [
            "6b91d0d912f148dba09d228b556d454c",
            "d796bfc104ee453b9e42237bf7bd28de",
            "de07cfad4b2a4094906d9906659a693e",
            "e99054b9e02d4fb39df6fbe574178ebf",
            "88eb7770b44f4c1d9715d911c80ab17c",
            "d6c3440015a240c8b0ccef3738d7fdb3",
            "820f377719df43b59987c4e78b913a4a",
            "b1838b37e70044949d0edad317649162",
            "4f3a56805fe048b790ab009441370250",
            "f0bf99bc2fa34859b1e2a673a40545ca",
            "45a9892120c74eb3a94e63a5efba3dd3"
          ]
        },
        "outputId": "5c7493cf-f17c-4ec5-9862-828791f85db7"
      },
      "source": [
        "# LOQD MODEL FOR CLASSIFICATION\n",
        "model = AutoModelForSequenceClassification.from_pretrained(MODEL)\n",
        "\n",
        "# TODO\n",
        "# GIVE SAMPLE TEXT FOR CLASSIFICATION\n",
        "text = # TODO\n",
        "\n",
        "#TODO \n",
        "# PREPROCESS TEXT\n",
        "text = # TODO\n",
        "\n",
        "# TODO\n",
        "# GET WORDS FROM DICTIONARY\n",
        "encoded_input = \n",
        "\n",
        "# MAKE PREDICTION\n",
        "output = model(**encoded_input)\n",
        "scores = output[0][0].detach().numpy()\n",
        "scores = softmax(scores)"
      ],
      "execution_count": null,
      "outputs": [
        {
          "output_type": "display_data",
          "data": {
            "application/vnd.jupyter.widget-view+json": {
              "model_id": "6b91d0d912f148dba09d228b556d454c",
              "version_minor": 0,
              "version_major": 2
            },
            "text/plain": [
              "Downloading:   0%|          | 0.00/476M [00:00<?, ?B/s]"
            ]
          },
          "metadata": {}
        }
      ]
    },
    {
      "cell_type": "code",
      "metadata": {
        "id": "mUG9EAWIYpT1",
        "colab": {
          "base_uri": "https://localhost:8080/"
        },
        "outputId": "320b6eed-ec35-4c53-c1a2-870a69945839"
      },
      "source": [
        "ranking = np.argsort(scores)\n",
        "ranking = ranking[::-1]\n",
        "for i in range(scores.shape[0]):\n",
        "    l = labels[ranking[i]]\n",
        "    s = scores[ranking[i]]\n",
        "    print(f\"{i+1}) {l} {np.round(float(s), 4)}\")"
      ],
      "execution_count": null,
      "outputs": [
        {
          "output_type": "stream",
          "name": "stdout",
          "text": [
            "1) 📷 0.1268\n",
            "2) 😊 0.1255\n",
            "3) 😁 0.1114\n",
            "4) ❤ 0.1106\n",
            "5) 😎 0.1078\n",
            "6) 📸 0.0828\n",
            "7) 😜 0.0514\n",
            "8) 😍 0.0507\n",
            "9) 😂 0.0453\n",
            "10) 😘 0.0388\n",
            "11) 😉 0.0366\n",
            "12) 💯 0.0175\n",
            "13) 💕 0.0168\n",
            "14) 🔥 0.0162\n",
            "15) 💙 0.014\n",
            "16) ✨ 0.0123\n",
            "17) 🇺🇸 0.0121\n",
            "18) 🎄 0.0109\n",
            "19) 💜 0.0078\n",
            "20) ☀ 0.0048\n"
          ]
        }
      ]
    }
  ]
}