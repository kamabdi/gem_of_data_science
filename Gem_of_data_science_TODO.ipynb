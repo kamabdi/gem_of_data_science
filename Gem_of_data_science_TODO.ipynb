{
  "nbformat": 4,
  "nbformat_minor": 0,
  "metadata": {
    "accelerator": "GPU",
    "colab": {
      "name": "Gem_of_data_science_TODO.ipynb",
      "provenance": [],
      "collapsed_sections": [],
      "include_colab_link": true
    },
    "kernelspec": {
      "display_name": "Python 3",
      "name": "python3"
    },
    "language_info": {
      "name": "python"
    }
  },
  "cells": [
    {
      "cell_type": "markdown",
      "metadata": {
        "id": "view-in-github",
        "colab_type": "text"
      },
      "source": [
        "<a href=\"https://colab.research.google.com/github/kamabdi/gem_of_data_science/blob/main/Gem_of_data_science_TODO.ipynb\" target=\"_parent\"><img src=\"https://colab.research.google.com/assets/colab-badge.svg\" alt=\"Open In Colab\"/></a>"
      ]
    },
    {
      "cell_type": "markdown",
      "metadata": {
        "id": "Qy7BV_Q6MGGH"
      },
      "source": [
        "# What is classification?\n",
        "Basic task in Computer Vision\n",
        "\n",
        "## Training: \n",
        "![alt text](https://cdn-images-1.medium.com/max/1600/1*oB3S5yHHhvougJkPXuc8og.gif)\n"
      ]
    },
    {
      "cell_type": "markdown",
      "metadata": {
        "id": "inybqIrxQ4py"
      },
      "source": [
        "# Why it is difficult?!\n",
        "\n",
        "1.   Semantic Gap - Did machines see the same way we do? Nope\n",
        "2.   Illumination\n",
        "3.   View point\n",
        "4.   Deformation\n",
        "5.   Occlusion\n",
        "6.   Background Clutter\n",
        "7.   Intraclass variation\n",
        "\n"
      ]
    },
    {
      "cell_type": "markdown",
      "metadata": {
        "id": "v8cr0SBxUQgU"
      },
      "source": [
        "# Now how we can implement that?\n",
        "#### What you'll learn\n",
        "\n",
        "1. What is a neural network and how to train it\n",
        "2. How to build 1-layer FC neural network using PyTorch\n",
        "3. How to add more layers\n",
        "4. How to pick hyperparams for your model\n",
        "5. How to build convolutional networks and train them\n",
        "\n",
        "How about overfitting, dropout, learning rate decay? \n"
      ]
    },
    {
      "cell_type": "markdown",
      "metadata": {
        "id": "QByvanOV1Lam"
      },
      "source": [
        "# Pytorch in Colab \n",
        "Pytorch is an awesome Deep Learning Framework from Facebook [link text](http://pytorch.org) \\\\\n",
        "Colab - Google actually gives you a free GPU for a limited time (12 hours) and you can run your code in Jupyter Notebook in the brower ))) \\\\\n",
        "Isn't that GREAAAAT ?\n"
      ]
    },
    {
      "cell_type": "markdown",
      "metadata": {
        "id": "JKkkGQps1TYm"
      },
      "source": [
        "# Import all necessary packages"
      ]
    },
    {
      "cell_type": "code",
      "metadata": {
        "id": "4dUrEmvO1YUn"
      },
      "source": [
        "import PIL.Image as image\n",
        "import numpy as np\n",
        "import matplotlib.pyplot as plt\n",
        "\n",
        "# import PyTorch packages\n",
        "import torch\n",
        "import torch.nn as nn\n",
        "import torchvision.models as model\n",
        "import torchvision.datasets as datasets\n",
        "import torchvision.transforms as transforms\n",
        "import torch.nn.functional as F\n",
        "import torch.optim as optim\n"
      ],
      "execution_count": null,
      "outputs": []
    },
    {
      "cell_type": "code",
      "metadata": {
        "colab": {
          "base_uri": "https://localhost:8080/"
        },
        "id": "9oBNmlEL7brj",
        "outputId": "6a0ab24b-818a-4672-d9e8-30d54f803870"
      },
      "source": [
        "!nvidia-smi"
      ],
      "execution_count": null,
      "outputs": [
        {
          "output_type": "stream",
          "name": "stdout",
          "text": [
            "Sat Nov  6 06:10:13 2021       \n",
            "+-----------------------------------------------------------------------------+\n",
            "| NVIDIA-SMI 495.44       Driver Version: 460.32.03    CUDA Version: 11.2     |\n",
            "|-------------------------------+----------------------+----------------------+\n",
            "| GPU  Name        Persistence-M| Bus-Id        Disp.A | Volatile Uncorr. ECC |\n",
            "| Fan  Temp  Perf  Pwr:Usage/Cap|         Memory-Usage | GPU-Util  Compute M. |\n",
            "|                               |                      |               MIG M. |\n",
            "|===============================+======================+======================|\n",
            "|   0  Tesla K80           Off  | 00000000:00:04.0 Off |                    0 |\n",
            "| N/A   32C    P8    27W / 149W |      0MiB / 11441MiB |      0%      Default |\n",
            "|                               |                      |                  N/A |\n",
            "+-------------------------------+----------------------+----------------------+\n",
            "                                                                               \n",
            "+-----------------------------------------------------------------------------+\n",
            "| Processes:                                                                  |\n",
            "|  GPU   GI   CI        PID   Type   Process name                  GPU Memory |\n",
            "|        ID   ID                                                   Usage      |\n",
            "|=============================================================================|\n",
            "|  No running processes found                                                 |\n",
            "+-----------------------------------------------------------------------------+\n"
          ]
        }
      ]
    },
    {
      "cell_type": "markdown",
      "metadata": {
        "id": "s4-Ru4Q91hF8"
      },
      "source": [
        "# Load data\n",
        "For this experiments we will be using MNIST dataset"
      ]
    },
    {
      "cell_type": "code",
      "metadata": {
        "id": "C-qJ7liy1qJQ"
      },
      "source": [
        "root = './data'\n",
        "batch_size = 64\n",
        "cuda = torch.cuda.is_available()\n",
        "device = torch.device(\"cuda:0\" if torch.cuda.is_available() else \"cpu\")\n",
        "kwargs = {'num_workers': 1, 'pin_memory': True} if cuda else {}\n",
        "# The output of torchvision datasets are images with values in range [0, 1].\n",
        "# We transform them to Tensors of normalized range [-1, 1]\n",
        "\n",
        "'''#To load data you need 3 componets \n",
        "1. Dataset\n",
        "2. Data Preprocessing \n",
        "3. Dataloader\n",
        "'''\n",
        "\n",
        "# Data Preprocessing \n",
        "transform = transforms.Compose([\n",
        "                       # The output of torchvision datasets are images with values in range [0, 1].\n",
        "                       # We transform them to Tensors with values in range [-1, 1]\n",
        "                       transforms.ToTensor(), \n",
        "                       transforms.Normalize((0.1307,), (0.3081,))]) # for better learning we need to substract mean and devide by std\n",
        "                      # can add more data preprocessing techniques: scaling, crop, randomly change the brightness, contrast, saturation and hue of an image, etc...\n",
        "# Create dataset  \n",
        "train_dataset = datasets.MNIST(root, train=True, download=True, transform=transform)\n",
        "\n",
        "# Dataloader \n",
        "train_loader = torch.utils.data.DataLoader(train_dataset,  batch_size=batch_size, shuffle=True, **kwargs)\n",
        "\n",
        "# TODO \n",
        "# Write transform, dataset and dataloader for test data\n"
      ],
      "execution_count": null,
      "outputs": []
    },
    {
      "cell_type": "markdown",
      "metadata": {
        "id": "U3G9K96F3nvQ"
      },
      "source": [
        "# Look at your data"
      ]
    },
    {
      "cell_type": "code",
      "metadata": {
        "colab": {
          "base_uri": "https://localhost:8080/",
          "height": 298
        },
        "id": "yrdtxfcC3qNZ",
        "outputId": "7cf141eb-3565-4316-fcf3-47a56309c5af"
      },
      "source": [
        "def imshow(inp, name, title=None):\n",
        "    import pylab\n",
        "    \"\"\"Imshow for Tensor.\"\"\"\n",
        "    #inp = inp.numpy().transpose((1, 2, 0))\n",
        "    inp = inp.squeeze().numpy()\n",
        "    mean = np.array([0.1307])\n",
        "    std = np.array([0.3081])\n",
        "    inp = std * inp + mean\n",
        "    inp = np.clip(inp, 0, 1)\n",
        "    plt.imshow(inp,  cmap=pylab.gray())\n",
        "    result = image.fromarray((inp * 255).astype(np.uint8))\n",
        "  #  result.save(name)\n",
        "    if title is not None:\n",
        "        plt.title(title)\n",
        "    plt.pause(0.001)  # pause a bit so that plots are updated\n",
        "    \n",
        "for batch_idx, (data, target) in enumerate(train_loader):\n",
        "  id = 1 # id image from the data batch \n",
        "  sample = data[id] # change number to any id in the batch (0, batch_size-1)\n",
        "  print(sample.shape) # size of the images \n",
        "  imshow(sample, 'sample', target[id].numpy())\n",
        "  break\n",
        "  "
      ],
      "execution_count": null,
      "outputs": [
        {
          "output_type": "stream",
          "name": "stdout",
          "text": [
            "torch.Size([1, 28, 28])\n"
          ]
        },
        {
          "output_type": "display_data",
          "data": {
            "image/png": "[encoded data removed]",
            "text/plain": [
              "<Figure size 432x288 with 1 Axes>"
            ]
          },
          "metadata": {
            "needs_background": "light"
          }
        }
      ]
    },
    {
      "cell_type": "markdown",
      "metadata": {
        "id": "4yhDUAoV5Fpz"
      },
      "source": [
        "# Create a model for training\n",
        "New model class is defined as a new nn.Module"
      ]
    },
    {
      "cell_type": "markdown",
      "metadata": {
        "id": "yBGBK5HM9PzK"
      },
      "source": [
        "## FC\n",
        "\n",
        "Let's start with a simple Fully Connected Network"
      ]
    },
    {
      "cell_type": "markdown",
      "metadata": {
        "id": "S-At5xLqB2yu"
      },
      "source": [
        "![alt text](https://codelabs.developers.google.com/codelabs/cloud-tensorflow-mnist/img/e218e6eee9da4e.png)"
      ]
    },
    {
      "cell_type": "code",
      "metadata": {
        "id": "bBA_KzMUAzTK"
      },
      "source": [
        "# Create 1-layer FC model\n",
        "class Simple_FC(nn.Module):\n",
        "    def __init__(self, input_size=784, num_classes=10):\n",
        "        super(Simple_FC, self).__init__()\n",
        "        self.fc1 = nn.Linear(input_size, num_classes)  \n",
        "    \n",
        "    def forward(self, x):\n",
        "        x = x.view(-1, 784)\n",
        "        out = self.fc1(x) # weighted sum of input and network weights -> Wx+b, b - bias\n",
        "        return out # return logits - activations before softmax layer "
      ],
      "execution_count": null,
      "outputs": []
    },
    {
      "cell_type": "markdown",
      "metadata": {
        "id": "DLkOFJUHFjTe"
      },
      "source": [
        "![alt text](https://codelabs.developers.google.com/codelabs/cloud-tensorflow-mnist/img/fba0638cc213a29.png)"
      ]
    },
    {
      "cell_type": "code",
      "metadata": {
        "id": "6alIPVw3uZe0"
      },
      "source": [
        "# Create model with 5 layers \n",
        "class Deep_FC(nn.Module):\n",
        "    def __init__(self, input_size=784, num_classes=10):\n",
        "        super(Deep_FC, self).__init__()\n",
        "        # TODO \n",
        "        # create 5 layer network \n",
        "    \n",
        "    def forward(self, x):\n",
        "        x = x.view(-1, 784)\n",
        "        # TODO\n",
        "        # write how 5 layer network processes the input data \n",
        "        \n",
        "        return x"
      ],
      "execution_count": null,
      "outputs": []
    },
    {
      "cell_type": "markdown",
      "metadata": {
        "id": "buI_vFTP9eoC"
      },
      "source": [
        "## CNN\n",
        "Now let's see how we get even more from the network with a better architecture (CNN) "
      ]
    },
    {
      "cell_type": "markdown",
      "metadata": {
        "id": "htjxOKrNLwcy"
      },
      "source": [
        "![alt text](https://cdn-images-1.medium.com/max/1600/1*oB3S5yHHhvougJkPXuc8og.gif)"
      ]
    },
    {
      "cell_type": "code",
      "metadata": {
        "id": "iu1DYw-n5N6f"
      },
      "source": [
        "class CNN(nn.Module):\n",
        "    def __init__(self):\n",
        "        super(CNN, self).__init__()\n",
        "        self.conv1 = nn.Conv2d(1, 10, kernel_size=5)\n",
        "        self.conv2 = nn.Conv2d(10, 20, kernel_size=5)\n",
        "        self.bn1 = nn.BatchNorm2d(10)\n",
        "        self.bn2 = nn.BatchNorm2d(20)\n",
        "        self.bn3 = nn.BatchNorm1d(50)\n",
        "\n",
        "        self.activation = nn.ReLU()\n",
        "\n",
        "        # TODO \n",
        "        # write 2 fully connected layers \n",
        "\n",
        "        # TODO 2\n",
        "        # change activation function to Sigmoid and train model \n",
        "      \n",
        "\n",
        "    def forward(self, x):\n",
        "\n",
        "        x = self.activation(F.max_pool2d(self.bn1(self.conv1(x)), 2))\n",
        "        x = self.activation(F.max_pool2d(self.bn2(self.conv2(x)), 2))\n",
        "\n",
        "        x = x.view(-1, 16*20)\n",
        "        \n",
        "        # TODO \n",
        "        # write how FC layers process output of convolutional layers\n",
        "        \n",
        "        \n",
        "        return x"
      ],
      "execution_count": null,
      "outputs": []
    },
    {
      "cell_type": "markdown",
      "metadata": {
        "id": "0JqcoNmh95Uo"
      },
      "source": [
        "## Pick model for testing"
      ]
    },
    {
      "cell_type": "code",
      "metadata": {
        "id": "rbBOhJv46Jfy"
      },
      "source": [
        "model = Simple_FC()\n",
        "# model = Deep_FC()\n",
        "# model = CNN()\n",
        "model = model.to(device)"
      ],
      "execution_count": null,
      "outputs": []
    },
    {
      "cell_type": "markdown",
      "metadata": {
        "id": "q7k6XE5J6M9v"
      },
      "source": [
        "# Define a Loss Function(Criterion) and an Optimizer\n"
      ]
    },
    {
      "cell_type": "code",
      "metadata": {
        "id": "qkFyyXAK6MfL"
      },
      "source": [
        "lr = 0.01 \n",
        "momentum = 0.9\n",
        "criterion = nn.CrossEntropyLoss().to(device)\n",
        "optimizer = optim.SGD(model.parameters(), lr=lr, momentum=momentum)"
      ],
      "execution_count": null,
      "outputs": []
    },
    {
      "cell_type": "code",
      "metadata": {
        "id": "S0w-4uFa7HU8"
      },
      "source": [
        "log_interval = 100\n",
        "def train(epoch):\n",
        "    for batch_idx, (data, target) in enumerate(train_loader):\n",
        "        # move data to GPU for faster computation\n",
        "        data, target = data.to(device), target.to(device)\n",
        "        # remove previous computations from Optimizer\n",
        "        optimizer.zero_grad() \n",
        "        # get predictions from the model\n",
        "        output = model(data) \n",
        "        # compute error\n",
        "        loss = criterion(output, target)\n",
        "        # calculate how much each layer should be modified\n",
        "        loss.backward() \n",
        "        # update model parameters\n",
        "        optimizer.step() \n",
        "            \n",
        "        if batch_idx % log_interval == 0:\n",
        "            print('Train Epoch: {} [{}/{} ({:.00f}%)]\\tLoss: {:.6f}'.format(\n",
        "                epoch, batch_idx * len(data), len(train_loader.dataset),\n",
        "                100. * batch_idx / len(train_loader), loss.data.item()))\n",
        "            \n",
        "            # Compute accuracy\n",
        "            _, argmax = torch.max(output, 1)\n",
        "            accuracy = (target == argmax.squeeze()).float().mean()"
      ],
      "execution_count": null,
      "outputs": []
    },
    {
      "cell_type": "markdown",
      "metadata": {
        "id": "ZLYPUPqB8qdm"
      },
      "source": [
        "# Check the model accuracy "
      ]
    },
    {
      "cell_type": "code",
      "metadata": {
        "id": "kxsnSEvA8vsJ"
      },
      "source": [
        "def test():\n",
        "    model.eval()\n",
        "    test_loss = 0\n",
        "    correct = 0\n",
        "    for data, target in test_loader:\n",
        "        # TODO \n",
        "        # move data to GPU for faster computation\n",
        "        \n",
        "        # TODO \n",
        "        # get predictions from the model\n",
        "       \n",
        "        # compute accumulative error over all test samples \n",
        "        test_loss += criterion(output, target).data.item()\n",
        "        # get predictions\n",
        "        pred = output.data.max(1)[1] \n",
        "        # count how many images were correctly classified\n",
        "        correct += pred.eq(target.data).cpu().sum()\n",
        "\n",
        "    test_loss = test_loss\n",
        "    test_loss /= len(test_loader) # loss function already averages over batch size\n",
        "    print('\\nTest set: Average loss: {:.4f}, Accuracy: {}/{} ({:.2f}%)\\n'.format(\n",
        "        test_loss, correct, len(test_loader.dataset),\n",
        "        100. * correct / len(test_loader.dataset)))"
      ],
      "execution_count": null,
      "outputs": []
    },
    {
      "cell_type": "markdown",
      "metadata": {
        "id": "NYrKRLW37k4t"
      },
      "source": [
        "# Let's Finally Train your Created Model"
      ]
    },
    {
      "cell_type": "code",
      "metadata": {
        "colab": {
          "base_uri": "https://localhost:8080/"
        },
        "id": "5rcTY3Jy7aX5",
        "outputId": "880d7eb9-5cb1-437d-eaf0-79b1e536e683"
      },
      "source": [
        "epochs = 1\n",
        "for epoch in range(1, epochs + 1):\n",
        "    train(epoch)"
      ],
      "execution_count": null,
      "outputs": [
        {
          "output_type": "stream",
          "name": "stdout",
          "text": [
            "Train Epoch: 1 [0/60000 (0%)]\tLoss: 2.316117\n",
            "Train Epoch: 1 [6400/60000 (11%)]\tLoss: 0.509516\n",
            "Train Epoch: 1 [12800/60000 (21%)]\tLoss: 0.306459\n",
            "Train Epoch: 1 [19200/60000 (32%)]\tLoss: 0.319104\n",
            "Train Epoch: 1 [25600/60000 (43%)]\tLoss: 0.199463\n",
            "Train Epoch: 1 [32000/60000 (53%)]\tLoss: 0.355488\n",
            "Train Epoch: 1 [38400/60000 (64%)]\tLoss: 0.157422\n",
            "Train Epoch: 1 [44800/60000 (75%)]\tLoss: 0.256930\n",
            "Train Epoch: 1 [51200/60000 (85%)]\tLoss: 0.522515\n",
            "Train Epoch: 1 [57600/60000 (96%)]\tLoss: 0.424172\n"
          ]
        }
      ]
    },
    {
      "cell_type": "code",
      "metadata": {
        "colab": {
          "base_uri": "https://localhost:8080/"
        },
        "id": "s4TsRr9A86KB",
        "outputId": "a0847a0b-1958-4a77-8244-5d8907c6bca1"
      },
      "source": [
        "test()"
      ],
      "execution_count": null,
      "outputs": [
        {
          "output_type": "stream",
          "name": "stdout",
          "text": [
            "\n",
            "Test set: Average loss: 0.3030, Accuracy: 9159/10000 (91.59%)\n",
            "\n"
          ]
        }
      ]
    },
    {
      "cell_type": "markdown",
      "metadata": {
        "id": "T4H5SlICnG8I"
      },
      "source": [
        "TODO: Next task is to adapt learned models to a new dataset - CIFAR-10"
      ]
    }
  ]
}